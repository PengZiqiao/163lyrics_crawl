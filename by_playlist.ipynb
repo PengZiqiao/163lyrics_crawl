{
 "cells": [
  {
   "cell_type": "markdown",
   "metadata": {},
   "source": [
    "# 整理歌单数据"
   ]
  },
  {
   "cell_type": "markdown",
   "metadata": {},
   "source": [
    "使用油猴插件去除web端歌单只显示20首歌的限制，手动使用xpath提取出song_id\n",
    "$x(\"//a[contains(@href,'song?id=')]/@href\")\n",
    "存入文件song_id.txt"
   ]
  },
  {
   "cell_type": "code",
   "execution_count": 1,
   "metadata": {},
   "outputs": [],
   "source": [
    "from pathlib import Path\n",
    "import re\n",
    "\n",
    "text = Path('song_id.txt').read_text()\n",
    "\n",
    "#正则提取所有数字串，组成列表\n",
    "song_id = set(re.findall('\\d+', text))"
   ]
  },
  {
   "cell_type": "markdown",
   "metadata": {},
   "source": [
    "## 爬取歌词并保存"
   ]
  },
  {
   "cell_type": "code",
   "execution_count": 2,
   "metadata": {},
   "outputs": [],
   "source": [
    "import requests\n",
    "import json\n",
    "\n",
    "def get_lyric(song_id):\n",
    "    # 请求歌词报文\n",
    "    url = f'http://music.163.com/api/song/lyric?id={song_id}&tv=1'\n",
    "    res = requests.get(url).text\n",
    "    obj = json.loads(res)\n",
    "    \n",
    "    # 清洗歌词\n",
    "    if 'tlyric' in obj.keys():\n",
    "        lyric = obj['tlyric']['lyric']\n",
    "\n",
    "        # 去掉[]及内其内容\n",
    "        lyric = re.sub('\\[.*\\]', '', lyric)\n",
    "\n",
    "        # 中文间空格替换为回车\n",
    "        # lyric = re.sub('[\\u4e00-\\u9fa5]( )[\\u4e00-\\u9fa5]', '\\n', lyric)\n",
    "\n",
    "        # 去除空行\n",
    "        while '\\n\\n' in lyric:\n",
    "            lyric = lyric.replace('\\n\\n', '\\n')\n",
    "\n",
    "        return lyric\n",
    "\n",
    "    else:\n",
    "        return None"
   ]
  },
  {
   "cell_type": "code",
   "execution_count": 5,
   "metadata": {},
   "outputs": [
    {
     "name": "stdout",
     "output_type": "stream",
     "text": [
      "1055 / 1055\r"
     ]
    }
   ],
   "source": [
    "for i, each in enumerate(song_id):\n",
    "    print(f'{i+1} / {len(song_id)}', end='\\r')\n",
    "    lyric = get_lyric(each)\n",
    "    if lyric:\n",
    "        Path(f'./lyrics/{each}.txt').write_text(lyric)"
   ]
  },
  {
   "cell_type": "markdown",
   "metadata": {},
   "source": [
    "## 整理成训练语料需要的格式"
   ]
  },
  {
   "cell_type": "markdown",
   "metadata": {},
   "source": [
    "json"
   ]
  },
  {
   "cell_type": "code",
   "execution_count": 6,
   "metadata": {},
   "outputs": [],
   "source": [
    "p = Path('./lyrics')\n",
    "\n",
    "# 将歌词存为列表\n",
    "data = []\n",
    "for each in p.iterdir():\n",
    "    text = each.read_text()\n",
    "\n",
    "    # 中文间空行替换为逗号\n",
    "    text = re.sub('[\\u4e00-\\u9fa5](\\n)[\\u4e00-\\u9fa5]', '，', text)\n",
    "\n",
    "    data.append(text)\n",
    "\n",
    "# 保存列表到文件\n",
    "json.dump(data, Path('train.json').open('w'), ensure_ascii=False)"
   ]
  }
 ],
 "metadata": {
  "interpreter": {
   "hash": "bec7dafa497d37724754715057efeea64b7cd970bf54b7a00fa6056b107842f3"
  },
  "kernelspec": {
   "display_name": "Python 3.8.13 ('crawl')",
   "language": "python",
   "name": "python3"
  },
  "language_info": {
   "codemirror_mode": {
    "name": "ipython",
    "version": 3
   },
   "file_extension": ".py",
   "mimetype": "text/x-python",
   "name": "python",
   "nbconvert_exporter": "python",
   "pygments_lexer": "ipython3",
   "version": "3.8.13"
  },
  "orig_nbformat": 4
 },
 "nbformat": 4,
 "nbformat_minor": 2
}
