{
 "cells": [
  {
   "cell_type": "code",
   "execution_count": 1,
   "metadata": {},
   "outputs": [],
   "source": [
    "import requests\n",
    "from bs4 import BeautifulSoup\n",
    "import re\n",
    "import json\n",
    "\n",
    "def get_lyric(song_id, lv=True, tv=True):\n",
    "    # lv显示原文，tv显示译文\n",
    "    lv_ = '&lv=1' if lv else ''\n",
    "    tv_ = '&tv=1' if tv else ''\n",
    "    \n",
    "    # 请求歌词报文\n",
    "    url = f'http://music.163.com/api/song/lyric?id={song_id}{lv_}{tv_}'\n",
    "    res = requests.get(url).text\n",
    "    \n",
    "    # 清洗歌词\n",
    "    obj = json.loads(res)\n",
    "    lyric = obj['lrc']['lyric'] if lv else ''\n",
    "    tlyric = obj['tlyric']['lyric'] if tv else ''\n",
    "    \n",
    "    return lyric, tlyric\n",
    "\n",
    "def get_songs(id, by='artist'):\n",
    "    # 请求 by = artist | playlist\n",
    "    url = f'https://music.163.com/{by}?id={id}'\n",
    "    res = requests.get(url).text\n",
    "\n",
    "    # 解析遍历\n",
    "    songs = {}\n",
    "    soup = BeautifulSoup(res)\n",
    "    for li in soup.find('div', id='song-list-pre-cache').ul:\n",
    "        name = li.a.string\n",
    "        song_id = re.search('\\d+', li.a['href']).group()\n",
    "        songs.update({name:song_id})\n",
    "\n",
    "    return songs"
   ]
  },
  {
   "cell_type": "code",
   "execution_count": 6,
   "metadata": {},
   "outputs": [],
   "source": [
    "# 20689 MY FIRST STORY\n",
    "# 20878 ONE OK ROCK\n",
    "songs = get_songs('20878')\n",
    "\n",
    "# 便利每首歌\n",
    "for name, id in songs.items():\n",
    "    # 原文、译文用相同逻辑处理\n",
    "    for i, each in enumerate(get_lyric(id)):\n",
    "        # 去掉[]及内其内容\n",
    "        text = re.sub('\\[.*\\]', '', each)\n",
    "        # 保存\n",
    "        with open(f'./{i}/{name.replace(\"/\",\"_\")}.txt', 'w', encoding='utf-8') as f:\n",
    "            f.write(text)"
   ]
  },
  {
   "cell_type": "code",
   "execution_count": 55,
   "metadata": {},
   "outputs": [
    {
     "data": {
      "text/plain": [
       "48521"
      ]
     },
     "execution_count": 55,
     "metadata": {},
     "output_type": "execute_result"
    }
   ],
   "source": [
    "from pathlib import Path\n",
    "\n",
    "# ./1译文，./0原文\n",
    "p = Path('./1')\n",
    "\n",
    "# 将所有文件放入一个字符串\n",
    "text = ''\n",
    "for each in p.iterdir():\n",
    "    text += each.read_text()\n",
    "\n",
    "# 中文间空格替换为回车，\n",
    "text = re.sub('[\\u4e00-\\u9fa5]( )[\\u4e00-\\u9fa5]', '\\n', text)\n",
    "\n",
    "# 去除空行\n",
    "while '\\n\\n' in text:\n",
    "    text = text.replace('\\n\\n', '\\n')\n",
    "\n",
    "\n",
    "# 保存\n",
    "Path('data.txt').write_text(text)"
   ]
  },
  {
   "cell_type": "code",
   "execution_count": 5,
   "metadata": {},
   "outputs": [],
   "source": [
    "from pathlib import Path\n",
    "\n",
    "# ./1译文，./0原文\n",
    "p = Path('./1')\n",
    "\n",
    "# 将歌词存为列表\n",
    "data = []\n",
    "for each in p.iterdir():\n",
    "    text = each.read_text()\n",
    "\n",
    "    # 中文间空格替换为回车，去除空行\n",
    "    text = re.sub('[\\u4e00-\\u9fa5]( )[\\u4e00-\\u9fa5]', '\\n', text)\n",
    "    while '\\n\\n' in text:\n",
    "        text = text.replace('\\n\\n', '\\n')\n",
    "\n",
    "    data.append(text)\n",
    "\n",
    "# 保存列表到文件\n",
    "json.dump(data, Path('train.json').open('w'), ensure_ascii=False)"
   ]
  }
 ],
 "metadata": {
  "interpreter": {
   "hash": "bec7dafa497d37724754715057efeea64b7cd970bf54b7a00fa6056b107842f3"
  },
  "kernelspec": {
   "display_name": "Python 3.8.13 ('crawl')",
   "language": "python",
   "name": "python3"
  },
  "language_info": {
   "codemirror_mode": {
    "name": "ipython",
    "version": 3
   },
   "file_extension": ".py",
   "mimetype": "text/x-python",
   "name": "python",
   "nbconvert_exporter": "python",
   "pygments_lexer": "ipython3",
   "version": "3.8.13"
  },
  "orig_nbformat": 4
 },
 "nbformat": 4,
 "nbformat_minor": 2
}
