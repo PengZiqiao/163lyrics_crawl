{
 "cells": [
  {
   "cell_type": "code",
   "execution_count": null,
   "metadata": {},
   "outputs": [],
   "source": [
    "import requests\n",
    "from bs4 import BeautifulSoup\n",
    "import re\n",
    "import json\n",
    "\n",
    "def get_lyric(song_id, lv=True, tv=True):\n",
    "    # lv显示原文，tv显示译文\n",
    "    lv_ = '&lv=1' if lv else ''\n",
    "    tv_ = '&tv=1' if tv else ''\n",
    "    \n",
    "    # 请求歌词报文\n",
    "    url = f'http://music.163.com/api/song/lyric?id={song_id}{lv_}{tv_}'\n",
    "    res = requests.get(url).text\n",
    "    \n",
    "    # 清洗歌词\n",
    "    obj = json.loads(res)\n",
    "    lyric = obj['lrc']['lyric'] if lv else ''\n",
    "    tlyric = obj['tlyric']['lyric'] if tv else ''\n",
    "    \n",
    "    return lyric, tlyric\n",
    "\n",
    "def get_songs(id, by='artist'):\n",
    "    # 请求 by = artist | playlist\n",
    "    url = f'https://music.163.com/{by}?id={id}'\n",
    "    res = requests.get(url).text\n",
    "\n",
    "    # 解析遍历\n",
    "    songs = {}\n",
    "    soup = BeautifulSoup(res)\n",
    "    for li in soup.find('div', id='song-list-pre-cache').ul:\n",
    "        name = li.a.string\n",
    "        song_id = re.search('\\d+', li.a['href']).group()\n",
    "        songs.update({name:song_id})\n",
    "\n",
    "    return songs"
   ]
  },
  {
   "cell_type": "code",
   "execution_count": null,
   "metadata": {},
   "outputs": [],
   "source": [
    "# 20689 MY FIRST STORY\n",
    "songs = get_songs('20689')\n",
    "\n",
    "# 便利每首歌\n",
    "for name, id in songs.items():\n",
    "    # 原文、译文用相同逻辑处理\n",
    "    for i, each in enumerate(get_lyric(id)):\n",
    "        # 去掉[]及内其内容\n",
    "        text = re.sub('\\[.*\\]', '', each)\n",
    "        # 保存\n",
    "        with open(f'./{i}/{name}.txt', 'w', encoding='utf-8') as f:\n",
    "            f.write(text)"
   ]
  }
 ],
 "metadata": {
  "interpreter": {
   "hash": "bec7dafa497d37724754715057efeea64b7cd970bf54b7a00fa6056b107842f3"
  },
  "kernelspec": {
   "display_name": "Python 3.8.13 ('crawl')",
   "language": "python",
   "name": "python3"
  },
  "language_info": {
   "codemirror_mode": {
    "name": "ipython",
    "version": 3
   },
   "file_extension": ".py",
   "mimetype": "text/x-python",
   "name": "python",
   "nbconvert_exporter": "python",
   "pygments_lexer": "ipython3",
   "version": "3.8.13"
  },
  "orig_nbformat": 4
 },
 "nbformat": 4,
 "nbformat_minor": 2
}
